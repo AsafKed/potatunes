{
 "cells": [
  {
   "cell_type": "code",
   "execution_count": 4,
   "metadata": {},
   "outputs": [
    {
     "data": {
      "text/plain": [
       "5000"
      ]
     },
     "execution_count": 4,
     "metadata": {},
     "output_type": "execute_result"
    }
   ],
   "source": [
    "import os\n",
    "port=int(os.environ.get(\"PORT\", os.environ.get(\"SPOTIPY_REDIRECT_URI\", 5000).split(\":\")[-1]).split(\"/\")[0])\n",
    "port"
   ]
  }
 ],
 "metadata": {
  "kernelspec": {
   "display_name": "venv",
   "language": "python",
   "name": "python3"
  },
  "language_info": {
   "codemirror_mode": {
    "name": "ipython",
    "version": 3
   },
   "file_extension": ".py",
   "mimetype": "text/x-python",
   "name": "python",
   "nbconvert_exporter": "python",
   "pygments_lexer": "ipython3",
   "version": "3.10.6"
  },
  "orig_nbformat": 4,
  "vscode": {
   "interpreter": {
    "hash": "3b6fd1c8253db789ba85424ec6039a447a3e0fb2752b2af7952a24728a90921f"
   }
  }
 },
 "nbformat": 4,
 "nbformat_minor": 2
}
